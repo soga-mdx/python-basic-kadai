{
  "cells": [
    {
      "cell_type": "code",
      "execution_count": 1,
      "metadata": {},
      "outputs": [
        {
          "name": "stdout",
          "output_type": "stream",
          "text": [
            "15は3と5の倍数です。: FizzBuzz\n"
          ]
        }
      ],
      "source": [
        "# varの値を変更してテストしてください\n",
        "var = 15\n",
        "\n",
        "# 3と5の共通の倍数（15の倍数）を最初にチェック\n",
        "if var % 15 == 0:\n",
        "    print(f\"{var}は3と5の倍数です。: FizzBuzz\")\n",
        "# 3の倍数をチェック\n",
        "elif var % 3 == 0:\n",
        "    print(f\"{var}は3の倍数です。: Fizz\")\n",
        "# 5の倍数をチェック\n",
        "elif var % 5 == 0:\n",
        "    print(f\"{var}は5の倍数です。: Buzz\")\n",
        "# どの条件にも該当しない場合\n",
        "else:\n",
        "    print(f\"{var}はどれにも該当しません。: {var}\")"
      ]
    }
  ],
  "metadata": {
    "colab": {
      "provenance": []
    },
    "kernelspec": {
      "display_name": "Python 3",
      "name": "python3"
    },
    "language_info": {
      "codemirror_mode": {
        "name": "ipython",
        "version": 3
      },
      "file_extension": ".py",
      "mimetype": "text/x-python",
      "name": "python",
      "nbconvert_exporter": "python",
      "pygments_lexer": "ipython3",
      "version": "3.11.9"
    }
  },
  "nbformat": 4,
  "nbformat_minor": 0
}
