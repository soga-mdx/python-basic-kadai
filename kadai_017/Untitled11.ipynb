{
  "nbformat": 4,
  "nbformat_minor": 0,
  "metadata": {
    "colab": {
      "provenance": []
    },
    "kernelspec": {
      "name": "python3",
      "display_name": "Python 3"
    },
    "language_info": {
      "name": "python"
    }
  },
  "cells": [
    {
      "cell_type": "code",
      "execution_count": 1,
      "metadata": {
        "colab": {
          "base_uri": "https://localhost:8080/"
        },
        "id": "V7OjnQ8ethAe",
        "outputId": "8fd235bd-c615-4717-aedf-4bba27bd0639"
      },
      "outputs": [
        {
          "output_type": "stream",
          "name": "stdout",
          "text": [
            "田中は大人です。\n",
            "鈴木は大人ではありません。\n",
            "佐藤は大人です。\n",
            "山田は大人ではありません。\n"
          ]
        }
      ],
      "source": [
        "class Human:\n",
        "    def __init__(self, name, age):\n",
        "        self.name = name\n",
        "        self.age = age\n",
        "\n",
        "    def check_adult(self):\n",
        "        if self.age >= 20:\n",
        "            print(f\"{self.name}は大人です。\")\n",
        "        else:\n",
        "            print(f\"{self.name}は大人ではありません。\")\n",
        "\n",
        "# 複数のHumanクラスのインスタンスを生成\n",
        "human1 = Human(\"田中\", 25)\n",
        "human2 = Human(\"鈴木\", 18)\n",
        "human3 = Human(\"佐藤\", 32)\n",
        "human4 = Human(\"山田\", 15)\n",
        "\n",
        "# インスタンスをリストに追加\n",
        "human_list = [human1, human2, human3, human4]\n",
        "\n",
        "# リストの要素数分だけcheck_adultメソッドを呼び出す\n",
        "for human in human_list:\n",
        "    human.check_adult()"
      ]
    }
  ]
}