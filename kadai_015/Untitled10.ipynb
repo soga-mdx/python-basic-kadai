{
  "nbformat": 4,
  "nbformat_minor": 0,
  "metadata": {
    "colab": {
      "provenance": []
    },
    "kernelspec": {
      "name": "python3",
      "display_name": "Python 3"
    },
    "language_info": {
      "name": "python"
    }
  },
  "cells": [
    {
      "cell_type": "code",
      "execution_count": 1,
      "metadata": {
        "colab": {
          "base_uri": "https://localhost:8080/"
        },
        "id": "DY7dv3eWaMgI",
        "outputId": "423bbc7f-08a4-4cc4-9d6e-0eb5c76b084c"
      },
      "outputs": [
        {
          "output_type": "stream",
          "name": "stdout",
          "text": [
            "名前: 田中 太郎\n",
            "年齢: 25\n"
          ]
        }
      ],
      "source": [
        "class Human:\n",
        "    # コンストラクタ（初期化メソッド）\n",
        "    def __init__(self, name, age):\n",
        "        self.name = name  # 属性nameに引数nameを代入\n",
        "        self.age = age    # 属性ageに引数ageを代入\n",
        "\n",
        "    # メソッド\n",
        "    def printinfo(self):\n",
        "        print(f\"名前: {self.name}\")\n",
        "        print(f\"年齢: {self.age}\")\n",
        "\n",
        "# Humanクラスのインスタンスを生成し、変数に代入\n",
        "human_instance = Human(\"田中 太郎\", 25)\n",
        "\n",
        "# インスタンスのメソッドを呼び出して情報を出力\n",
        "human_instance.printinfo()"
      ]
    }
  ]
}